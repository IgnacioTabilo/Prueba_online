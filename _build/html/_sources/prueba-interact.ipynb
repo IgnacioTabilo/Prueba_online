{
 "cells": [
  {
   "cell_type": "markdown",
   "id": "38790681-8acf-473b-8d99-11b670bf8427",
   "metadata": {},
   "source": [
    "# Prueba interactiva"
   ]
  },
  {
   "cell_type": "markdown",
   "id": "dde149f1-bbe7-4fb8-9bec-dc685425b0ab",
   "metadata": {},
   "source": [
    "A continuación, un intendo de utilizar sliders en Jupyter Books"
   ]
  },
  {
   "cell_type": "code",
   "execution_count": 1,
   "id": "c14a8e35-4ece-4300-9fe3-e39445d5b0f7",
   "metadata": {},
   "outputs": [
    {
     "data": {
      "application/vnd.jupyter.widget-view+json": {
       "model_id": "6ae8f59591224a9192b81ad364583f66",
       "version_major": 2,
       "version_minor": 0
      },
      "text/plain": [
       "IntSlider(value=7, continuous_update=False, description='Test:', max=10)"
      ]
     },
     "execution_count": 1,
     "metadata": {},
     "output_type": "execute_result"
    }
   ],
   "source": [
    "import ipywidgets as widgets\n",
    "widgets.IntSlider(\n",
    "    value=7,\n",
    "    min=0,\n",
    "    max=10,\n",
    "    step=1,\n",
    "    description='Test:',\n",
    "    disabled=False,\n",
    "    continuous_update=False,\n",
    "    orientation='horizontal',\n",
    "    readout=True,\n",
    "    readout_format='d'\n",
    ")"
   ]
  },
  {
   "cell_type": "markdown",
   "id": "51bf6559-c5a8-4f36-9a9d-ead209f7c4dc",
   "metadata": {},
   "source": [
    "Lore ipsum..."
   ]
  }
 ],
 "metadata": {
  "kernelspec": {
   "display_name": "Python 3 (ipykernel)",
   "language": "python",
   "name": "python3"
  },
  "language_info": {
   "codemirror_mode": {
    "name": "ipython",
    "version": 3
   },
   "file_extension": ".py",
   "mimetype": "text/x-python",
   "name": "python",
   "nbconvert_exporter": "python",
   "pygments_lexer": "ipython3",
   "version": "3.11.6"
  }
 },
 "nbformat": 4,
 "nbformat_minor": 5
}
